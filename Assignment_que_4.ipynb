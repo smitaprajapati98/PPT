{
 "cells": [
  {
   "cell_type": "markdown",
   "id": "13332fab-16fd-4224-beea-fd08f6a02a4a",
   "metadata": {},
   "source": [
    "# Q-1"
   ]
  },
  {
   "cell_type": "code",
   "execution_count": 1,
   "id": "6e23a633-1d58-49d8-a7a0-77faffe91912",
   "metadata": {},
   "outputs": [],
   "source": [
    "def arraysIntersection(arr1, arr2, arr3):\n",
    "    p1, p2, p3 = 0, 0, 0\n",
    "    result = []\n",
    "    \n",
    "    while p1 < len(arr1) and p2 < len(arr2) and p3 < len(arr3):\n",
    "        if arr1[p1] == arr2[p2] == arr3[p3]:\n",
    "            result.append(arr1[p1])\n",
    "            p1 += 1\n",
    "            p2 += 1\n",
    "            p3 += 1\n",
    "        elif arr1[p1] < arr2[p2]:\n",
    "            p1 += 1\n",
    "        elif arr2[p2] < arr3[p3]:\n",
    "            p2 += 1\n",
    "        else:\n",
    "            p3 += 1\n",
    "    \n",
    "    return result\n"
   ]
  },
  {
   "cell_type": "code",
   "execution_count": 3,
   "id": "17babca6-1de1-4332-8cc0-a0953bd88c99",
   "metadata": {},
   "outputs": [
    {
     "name": "stdout",
     "output_type": "stream",
     "text": [
      "[1, 5]\n"
     ]
    }
   ],
   "source": [
    "arr1 = [1, 2, 3, 4, 5]\n",
    "arr2 = [1, 2, 5, 7, 9]\n",
    "arr3 = [1, 3, 4, 5, 8]\n",
    "result = arraysIntersection(arr1, arr2, arr3)\n",
    "print(result) \n"
   ]
  },
  {
   "cell_type": "markdown",
   "id": "e27ea6e3-5bab-4664-95ba-d23cfa70df81",
   "metadata": {},
   "source": [
    "# Q-2"
   ]
  },
  {
   "cell_type": "code",
   "execution_count": 4,
   "id": "4be82b02-df63-4a23-8d34-439b646c61a8",
   "metadata": {},
   "outputs": [],
   "source": [
    "def findDisjointArrays(nums1, nums2):\n",
    "    set1 = set(nums1)\n",
    "    set2 = set(nums2)\n",
    "    return [list(set1 - set2), list(set2 - set1)]\n"
   ]
  },
  {
   "cell_type": "code",
   "execution_count": 5,
   "id": "d11750ff-f0d3-4825-96fa-e664a404007c",
   "metadata": {},
   "outputs": [
    {
     "name": "stdout",
     "output_type": "stream",
     "text": [
      "[[1, 3], [4, 6]]\n"
     ]
    }
   ],
   "source": [
    "nums1 = [1, 2, 3]\n",
    "nums2 = [2, 4, 6]\n",
    "result = findDisjointArrays(nums1, nums2)\n",
    "print(result) "
   ]
  },
  {
   "cell_type": "markdown",
   "id": "5c7a0598-c76f-46f3-a733-2abb0f0ed01c",
   "metadata": {},
   "source": [
    "# Q-3"
   ]
  },
  {
   "cell_type": "code",
   "execution_count": 6,
   "id": "84264272-d861-40c7-8170-a6f6b451268b",
   "metadata": {},
   "outputs": [],
   "source": [
    "def transpose(matrix):\n",
    "    rows = len(matrix)\n",
    "    cols = len(matrix[0])\n",
    "    transpose = []\n",
    "\n",
    "    for j in range(cols):\n",
    "        new_row = []\n",
    "        for i in range(rows):\n",
    "            new_row.append(matrix[i][j])\n",
    "        transpose.append(new_row)\n",
    "\n",
    "    return transpose\n"
   ]
  },
  {
   "cell_type": "code",
   "execution_count": 7,
   "id": "2c5b9e67-9cac-4e8a-9e1c-cb15c97b06e0",
   "metadata": {},
   "outputs": [
    {
     "name": "stdout",
     "output_type": "stream",
     "text": [
      "[[1, 4, 7], [2, 5, 8], [3, 6, 9]]\n"
     ]
    }
   ],
   "source": [
    "matrix = [[1, 2, 3], [4, 5, 6], [7, 8, 9]]\n",
    "result = transpose(matrix)\n",
    "print(result)"
   ]
  },
  {
   "cell_type": "markdown",
   "id": "57109753-9815-414f-a57d-84ea02069374",
   "metadata": {},
   "source": [
    "# Q-4"
   ]
  },
  {
   "cell_type": "code",
   "execution_count": 8,
   "id": "cbb9bd04-d66f-4a8b-8af9-2433a13b8fa8",
   "metadata": {},
   "outputs": [],
   "source": [
    "def arrayPairSum(nums):\n",
    "    nums.sort()\n",
    "    pair_sum = 0\n",
    "\n",
    "    for i in range(0, len(nums), 2):\n",
    "        pair_sum += nums[i]\n",
    "\n",
    "    return pair_sum\n"
   ]
  },
  {
   "cell_type": "code",
   "execution_count": 9,
   "id": "1a8838a2-3ee8-4469-b286-8d60087ea15b",
   "metadata": {},
   "outputs": [
    {
     "name": "stdout",
     "output_type": "stream",
     "text": [
      "4\n"
     ]
    }
   ],
   "source": [
    "nums = [1, 4, 3, 2]\n",
    "result = arrayPairSum(nums)\n",
    "print(result)"
   ]
  },
  {
   "cell_type": "markdown",
   "id": "39bf0150-baf1-4add-894e-fd26b7acf0ee",
   "metadata": {},
   "source": [
    "# Q-5"
   ]
  },
  {
   "cell_type": "code",
   "execution_count": 10,
   "id": "629a95d1-96aa-4ae0-b9d4-025ae8f472ae",
   "metadata": {},
   "outputs": [],
   "source": [
    "def arrangeCoins(n):\n",
    "    k = 0\n",
    "    total = 0\n",
    "\n",
    "    while total <= n:\n",
    "        k += 1\n",
    "        total += k\n",
    "\n",
    "    return k - 1\n"
   ]
  },
  {
   "cell_type": "code",
   "execution_count": 11,
   "id": "35a96436-039f-4c4b-92ea-84ca63a6c208",
   "metadata": {},
   "outputs": [
    {
     "name": "stdout",
     "output_type": "stream",
     "text": [
      "2\n"
     ]
    }
   ],
   "source": [
    "n = 5\n",
    "result = arrangeCoins(n)\n",
    "print(result) "
   ]
  },
  {
   "cell_type": "markdown",
   "id": "b7df5b41-672d-48f2-b913-9315be7308d7",
   "metadata": {},
   "source": [
    "# Q-6"
   ]
  },
  {
   "cell_type": "code",
   "execution_count": 12,
   "id": "ffbf1ff1-7a73-40cf-974b-bf28a65ad647",
   "metadata": {},
   "outputs": [],
   "source": [
    "def sortedSquares(nums):\n",
    "    squared_nums = []\n",
    "\n",
    "    for num in nums:\n",
    "        squared_nums.append(num * num)\n",
    "\n",
    "    squared_nums.sort()\n",
    "\n",
    "    return squared_nums\n"
   ]
  },
  {
   "cell_type": "code",
   "execution_count": 13,
   "id": "811f9560-fcfb-4e61-a228-aeac8c8446c1",
   "metadata": {},
   "outputs": [
    {
     "name": "stdout",
     "output_type": "stream",
     "text": [
      "[0, 1, 9, 16, 100]\n"
     ]
    }
   ],
   "source": [
    "nums = [-4, -1, 0, 3, 10]\n",
    "result = sortedSquares(nums)\n",
    "print(result) "
   ]
  },
  {
   "cell_type": "markdown",
   "id": "a9dfe4d5-752f-46e5-ad2e-b969472368e1",
   "metadata": {},
   "source": [
    "# Q-7"
   ]
  },
  {
   "cell_type": "code",
   "execution_count": 14,
   "id": "fd6722ac-0975-47b0-a726-b2d758fcb0fb",
   "metadata": {},
   "outputs": [],
   "source": [
    "def maxCount(m, n, ops):\n",
    "    min_row = m\n",
    "    min_col = n\n",
    "\n",
    "    for op in ops:\n",
    "        min_row = min(min_row, op[0])\n",
    "        min_col = min(min_col, op[1])\n",
    "\n",
    "    return min_row * min_col\n"
   ]
  },
  {
   "cell_type": "code",
   "execution_count": 15,
   "id": "8ff5a3dc-e34f-468d-b9a3-791e8db6d97a",
   "metadata": {},
   "outputs": [
    {
     "name": "stdout",
     "output_type": "stream",
     "text": [
      "4\n"
     ]
    }
   ],
   "source": [
    "m = 3\n",
    "n = 3\n",
    "ops = [[2, 2], [3, 3]]\n",
    "result = maxCount(m, n, ops)\n",
    "print(result)"
   ]
  },
  {
   "cell_type": "markdown",
   "id": "8d066051-11b1-4eaa-8f59-26e2cea195e3",
   "metadata": {},
   "source": [
    "# Q-8"
   ]
  },
  {
   "cell_type": "code",
   "execution_count": 16,
   "id": "7f4b1643-8089-41c4-a98e-2d8fd99b29b4",
   "metadata": {},
   "outputs": [],
   "source": [
    "def rearrangeArray(nums, n):\n",
    "    result = []\n",
    "    for i in range(n):\n",
    "        result.append(nums[i])\n",
    "        result.append(nums[i + n])\n",
    "    return result\n"
   ]
  },
  {
   "cell_type": "code",
   "execution_count": 17,
   "id": "5d817748-fc2f-4434-ad0a-6d1ebcd4cc6e",
   "metadata": {},
   "outputs": [
    {
     "name": "stdout",
     "output_type": "stream",
     "text": [
      "[2, 3, 5, 4, 1, 7]\n"
     ]
    }
   ],
   "source": [
    "nums = [2, 5, 1, 3, 4, 7]\n",
    "n = 3\n",
    "result = rearrangeArray(nums, n)\n",
    "print(result) "
   ]
  },
  {
   "cell_type": "code",
   "execution_count": null,
   "id": "55e21b65-525a-483e-9138-ef99da775a89",
   "metadata": {},
   "outputs": [],
   "source": []
  }
 ],
 "metadata": {
  "kernelspec": {
   "display_name": "Python 3 (ipykernel)",
   "language": "python",
   "name": "python3"
  },
  "language_info": {
   "codemirror_mode": {
    "name": "ipython",
    "version": 3
   },
   "file_extension": ".py",
   "mimetype": "text/x-python",
   "name": "python",
   "nbconvert_exporter": "python",
   "pygments_lexer": "ipython3",
   "version": "3.10.9"
  }
 },
 "nbformat": 4,
 "nbformat_minor": 5
}
